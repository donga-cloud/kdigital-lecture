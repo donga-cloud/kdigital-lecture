{
 "cells": [
  {
   "cell_type": "code",
   "execution_count": 1,
   "metadata": {},
   "outputs": [
    {
     "ename": "SyntaxError",
     "evalue": "invalid syntax (<ipython-input-1-ee6f48d2f334>, line 1)",
     "output_type": "error",
     "traceback": [
      "\u001b[1;36m  File \u001b[1;32m\"<ipython-input-1-ee6f48d2f334>\"\u001b[1;36m, line \u001b[1;32m1\u001b[0m\n\u001b[1;33m    imort pickle\u001b[0m\n\u001b[1;37m          ^\u001b[0m\n\u001b[1;31mSyntaxError\u001b[0m\u001b[1;31m:\u001b[0m invalid syntax\n"
     ]
    }
   ],
   "source": [
    "\n",
    "\n",
    "scores=[]\n",
    "scores.append=()\n",
    "name=\"이진범\"\n",
    "subject1=\"수학\"\n",
    "subject2=\"과학\"\n",
    "subject3=\"영어\"\n",
    "int(input:\"메뉴를 선택해주세요1-입력, 2-조회,3-삭제,0-종료\":)\n",
    "score=-1\n",
    "while true=0 :\n",
    "    break\n",
    "    print(\"종료되었습니다\")\n",
    "if i in range for(4) if i ==2 \n",
    "    temp=[]\n",
    "     temp.append(0)\n",
    "      \n",
    "\n",
    "scores= {\"수학\":30,\"과학\":40,\"영어\":50}\n",
    "\n",
    "result=list(range(4,int(num)))\n",
    "with open(\"data2.pkl\",\"rb\")\n",
    "result=list(range(4,int(num)))\n",
    "with open(\"data2.pkl\",\"rb\")"
   ]
  },
  {
   "cell_type": "code",
   "execution_count": null,
   "metadata": {},
   "outputs": [],
   "source": [
    "\n",
    "\n",
    "\n",
    "print\n",
    "\n",
    "\n",
    "\n",
    "elif menu == \"3\":\n",
    "    for i, user in enumerate(scores):\n",
    "        print\n",
    "        \n",
    "    del_index = int(\"t\")"
   ]
  }
 ],
 "metadata": {
  "kernelspec": {
   "display_name": "Python 3",
   "language": "python",
   "name": "python3"
  },
  "language_info": {
   "codemirror_mode": {
    "name": "ipython",
    "version": 3
   },
   "file_extension": ".py",
   "mimetype": "text/x-python",
   "name": "python",
   "nbconvert_exporter": "python",
   "pygments_lexer": "ipython3",
   "version": "3.8.5"
  }
 },
 "nbformat": 4,
 "nbformat_minor": 4
}
