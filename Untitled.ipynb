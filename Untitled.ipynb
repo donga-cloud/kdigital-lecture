{
 "cells": [
  {
   "cell_type": "code",
   "execution_count": 3,
   "metadata": {},
   "outputs": [
    {
     "name": "stdout",
     "output_type": "stream",
     "text": [
      "이름을 입력해주세요:홍길동\n"
     ]
    }
   ],
   "source": [
    "name=input(\"이름을 입력해주세요:\")"
   ]
  },
  {
   "cell_type": "code",
   "execution_count": 4,
   "metadata": {},
   "outputs": [
    {
     "name": "stdout",
     "output_type": "stream",
     "text": [
      "나이를 입력해주세요:27\n"
     ]
    }
   ],
   "source": [
    "age=input(\"나이를 입력해주세요:\")"
   ]
  },
  {
   "cell_type": "code",
   "execution_count": 5,
   "metadata": {},
   "outputs": [
    {
     "name": "stdout",
     "output_type": "stream",
     "text": [
      "전화번호를 입력해주세요:010-3023-1223\n"
     ]
    }
   ],
   "source": [
    "number=input(\"전화번호를 입력해주세요:\")"
   ]
  },
  {
   "cell_type": "code",
   "execution_count": 9,
   "metadata": {},
   "outputs": [],
   "source": [
    "score=dict(name=\"홍길동\",age=27,number= \"010-3023-1223\")"
   ]
  },
  {
   "cell_type": "code",
   "execution_count": 11,
   "metadata": {},
   "outputs": [
    {
     "data": {
      "text/plain": [
       "'홍길동'"
      ]
     },
     "execution_count": 11,
     "metadata": {},
     "output_type": "execute_result"
    }
   ],
   "source": [
    "score[\"name\"]"
   ]
  },
  {
   "cell_type": "code",
   "execution_count": 12,
   "metadata": {},
   "outputs": [
    {
     "data": {
      "text/plain": [
       "27"
      ]
     },
     "execution_count": 12,
     "metadata": {},
     "output_type": "execute_result"
    }
   ],
   "source": [
    "score[\"age\"]"
   ]
  },
  {
   "cell_type": "code",
   "execution_count": 13,
   "metadata": {},
   "outputs": [
    {
     "data": {
      "text/plain": [
       "'010-3023-1223'"
      ]
     },
     "execution_count": 13,
     "metadata": {},
     "output_type": "execute_result"
    }
   ],
   "source": [
    "score[\"number\"]"
   ]
  },
  {
   "cell_type": "code",
   "execution_count": 14,
   "metadata": {},
   "outputs": [
    {
     "data": {
      "text/plain": [
       "dict_keys(['name', 'age', 'number'])"
      ]
     },
     "execution_count": 14,
     "metadata": {},
     "output_type": "execute_result"
    }
   ],
   "source": [
    "score.keys()"
   ]
  },
  {
   "cell_type": "code",
   "execution_count": 16,
   "metadata": {},
   "outputs": [
    {
     "data": {
      "text/plain": [
       "dict_values(['홍길동', 27, '010-3023-1223'])"
      ]
     },
     "execution_count": 16,
     "metadata": {},
     "output_type": "execute_result"
    }
   ],
   "source": [
    "score.values()"
   ]
  },
  {
   "cell_type": "code",
   "execution_count": 23,
   "metadata": {},
   "outputs": [
    {
     "data": {
      "text/plain": [
       "27"
      ]
     },
     "execution_count": 23,
     "metadata": {},
     "output_type": "execute_result"
    }
   ],
   "source": [
    "score.setdefault(\"age\",30)"
   ]
  },
  {
   "cell_type": "code",
   "execution_count": 50,
   "metadata": {},
   "outputs": [
    {
     "name": "stdout",
     "output_type": "stream",
     "text": [
      "첫번째 점수를 입력해주세요:120\n",
      "두번째 점수를 입력해주세요:90\n",
      "세번째 점수를 입력해주세요:80\n"
     ]
    }
   ],
   "source": [
    "a=int(input(\"첫번째 점수를 입력해주세요:\"))\n",
    "b=int(input(\"두번째 점수를 입력해주세요:\"))\n",
    "c=int(input(\"세번째 점수를 입력해주세요:\"))"
   ]
  },
  {
   "cell_type": "code",
   "execution_count": 48,
   "metadata": {},
   "outputs": [
    {
     "name": "stdout",
     "output_type": "stream",
     "text": [
      "잘못된 점수가 입력되었습니다\n"
     ]
    }
   ],
   "source": [
    "if((0 <= a <=100 ) \n",
    "and(0 <= b <=100)\n",
    "and(0<=c<=100)):\n",
    "    pass\n",
    "else:\n",
    "        print(\"잘못된 점수가 입력되었습니다\")"
   ]
  },
  {
   "cell_type": "code",
   "execution_count": 51,
   "metadata": {},
   "outputs": [
    {
     "ename": "SyntaxError",
     "evalue": "invalid syntax (<ipython-input-51-8a08afb74d18>, line 1)",
     "output_type": "error",
     "traceback": [
      "\u001b[1;36m  File \u001b[1;32m\"<ipython-input-51-8a08afb74d18>\"\u001b[1;36m, line \u001b[1;32m1\u001b[0m\n\u001b[1;33m    if(<0 or a>100\u001b[0m\n\u001b[1;37m       ^\u001b[0m\n\u001b[1;31mSyntaxError\u001b[0m\u001b[1;31m:\u001b[0m invalid syntax\n"
     ]
    }
   ],
   "source": [
    "if(<0 or a>100 \n",
    "   or b<0 or b> 100 \n",
    "   or c <0 or c>100 ):\n",
    "     print(\"잘못된 점수가 입력되었습니다\")\n",
    "elif"
   ]
  },
  {
   "cell_type": "code",
   "execution_count": 53,
   "metadata": {},
   "outputs": [],
   "source": [
    "a=[1,2,3,4,5,6,7]"
   ]
  },
  {
   "cell_type": "code",
   "execution_count": 54,
   "metadata": {},
   "outputs": [
    {
     "name": "stdout",
     "output_type": "stream",
     "text": [
      "1\n",
      "2\n",
      "3\n",
      "4\n",
      "5\n",
      "6\n",
      "7\n"
     ]
    }
   ],
   "source": [
    "for i in a :\n",
    "    print(i)"
   ]
  },
  {
   "cell_type": "code",
   "execution_count": 55,
   "metadata": {},
   "outputs": [
    {
     "name": "stdout",
     "output_type": "stream",
     "text": [
      "이름을 입력해주세요:홍길동\n",
      "나이를 입력해주세요:20\n",
      "전화번호를 입력해주세요010-3456-7899\n"
     ]
    }
   ],
   "source": [
    "name=input(\"이름을 입력해주세요:\")\n",
    "age=input(\"나이를 입력해주세요:\")\n",
    "phone=input(\"전화번호를 입력해주세요\")"
   ]
  },
  {
   "cell_type": "code",
   "execution_count": 56,
   "metadata": {},
   "outputs": [
    {
     "name": "stdout",
     "output_type": "stream",
     "text": [
      "이름을 입력해주세요:이몽룡\n",
      "나이를 입력해주세요:30\n",
      "전화번호를 입력해주세요010-4567-6789\n"
     ]
    }
   ],
   "source": [
    "name1=input(\"이름을 입력해주세요:\")\n",
    "age2=input(\"나이를 입력해주세요:\")\n",
    "phone3=input(\"전화번호를 입력해주세요\")"
   ]
  },
  {
   "cell_type": "code",
   "execution_count": 57,
   "metadata": {},
   "outputs": [],
   "source": [
    "contacts=[]"
   ]
  },
  {
   "cell_type": "code",
   "execution_count": 59,
   "metadata": {},
   "outputs": [],
   "source": [
    "contacts.append({'이름':name,'나이':age,'연락처':phone})"
   ]
  },
  {
   "cell_type": "code",
   "execution_count": 60,
   "metadata": {},
   "outputs": [
    {
     "data": {
      "text/plain": [
       "[{'이름': '홍길동', '나이': '20', '연락처': '010-3456-7899'}]"
      ]
     },
     "execution_count": 60,
     "metadata": {},
     "output_type": "execute_result"
    }
   ],
   "source": [
    "contacts"
   ]
  },
  {
   "cell_type": "code",
   "execution_count": 63,
   "metadata": {},
   "outputs": [],
   "source": [
    "contacts.append({'이름':name,'나이':age,'연락처':phone,'이름':name1,'나이':age2,'연락처':phone3})"
   ]
  },
  {
   "cell_type": "code",
   "execution_count": 64,
   "metadata": {},
   "outputs": [
    {
     "data": {
      "text/plain": [
       "[{'이름': '홍길동', '나이': '20', '연락처': '010-3456-7899'},\n",
       " {'이름': '이몽룡', '나이': '30', '연락처': '010-4567-6789'}]"
      ]
     },
     "execution_count": 64,
     "metadata": {},
     "output_type": "execute_result"
    }
   ],
   "source": [
    "contacts"
   ]
  },
  {
   "cell_type": "code",
   "execution_count": 65,
   "metadata": {},
   "outputs": [],
   "source": [
    "fruit=['사과','오렌지']\n",
    "vegitable=['당근','호박']"
   ]
  },
  {
   "cell_type": "code",
   "execution_count": 72,
   "metadata": {},
   "outputs": [
    {
     "name": "stdout",
     "output_type": "stream",
     "text": [
      "등록할 카데고리를 선택해주세요(과일,채소):채소\n"
     ]
    }
   ],
   "source": [
    "category=input(\"등록할 카데고리를 선택해주세요(과일,채소):\")"
   ]
  },
  {
   "cell_type": "code",
   "execution_count": 71,
   "metadata": {},
   "outputs": [
    {
     "name": "stdout",
     "output_type": "stream",
     "text": [
      "등록할 채소를 입력해주세요: 당근\n"
     ]
    }
   ],
   "source": [
    "item=input(\"등록할 {}를 입력해주세요: \".format(a))"
   ]
  },
  {
   "cell_type": "code",
   "execution_count": 70,
   "metadata": {},
   "outputs": [
    {
     "name": "stdout",
     "output_type": "stream",
     "text": [
      "이미 등록된 채소입니다.\n"
     ]
    }
   ],
   "source": [
    "if  in [\"과일,채소\"]:\n",
    "    if a== \"과일\"\n",
    "else:\n",
    "    print(\"이미 등록된 채소입니다.\")"
   ]
  },
  {
   "cell_type": "code",
   "execution_count": 83,
   "metadata": {},
   "outputs": [],
   "source": [
    "i=50"
   ]
  },
  {
   "cell_type": "code",
   "execution_count": 84,
   "metadata": {},
   "outputs": [
    {
     "ename": "SyntaxError",
     "evalue": "invalid syntax (<ipython-input-84-88ca11445b48>, line 1)",
     "output_type": "error",
     "traceback": [
      "\u001b[1;36m  File \u001b[1;32m\"<ipython-input-84-88ca11445b48>\"\u001b[1;36m, line \u001b[1;32m1\u001b[0m\n\u001b[1;33m    while i! = 0:\u001b[0m\n\u001b[1;37m           ^\u001b[0m\n\u001b[1;31mSyntaxError\u001b[0m\u001b[1;31m:\u001b[0m invalid syntax\n"
     ]
    }
   ],
   "source": [
    "while i! = 0:\n",
    "    i = int(input(\"값을 입력해주세요\"))"
   ]
  },
  {
   "cell_type": "code",
   "execution_count": 99,
   "metadata": {
    "scrolled": true
   },
   "outputs": [
    {
     "name": "stdout",
     "output_type": "stream",
     "text": [
      "첫번째 점수를 입력해주세요:120\n",
      "두번째 점수를 입력해주세요:90\n",
      "세번째 점수를 입력해주세요:80\n"
     ]
    }
   ],
   "source": [
    "score1= int(input(\"첫번째 점수를 입력해주세요:\"))\n",
    "score2=int(input(\"두번째 점수를 입력해주세요:\"))\n",
    "score3=int(input(\"세번째 점수를 입력해주세요:\"))"
   ]
  },
  {
   "cell_type": "code",
   "execution_count": 102,
   "metadata": {},
   "outputs": [
    {
     "name": "stdout",
     "output_type": "stream",
     "text": [
      "잘못된 점수가 입력되었습니다\n"
     ]
    }
   ],
   "source": [
    "if (score1 <0 or score1>100 or score2<0 or score2>100 or score3>100 or score3<0):\n",
    "    print(\"잘못된 점수가 입력되었습니다\")\n",
    "\n",
    "elif (score1> 65 and score2 > 65 and score3 > 65):\n",
    "    print(\"합격\")\n",
    "else:\n",
    "    print (\"불합격\")\n",
    "\n",
    "   "
   ]
  },
  {
   "cell_type": "code",
   "execution_count": 103,
   "metadata": {},
   "outputs": [],
   "source": [
    "fruit=['사과','오렌지']\n",
    "vegetable=['당근','호박']"
   ]
  },
  {
   "cell_type": "code",
   "execution_count": 104,
   "metadata": {},
   "outputs": [
    {
     "name": "stdout",
     "output_type": "stream",
     "text": [
      "등록할 카데고리를 선택해주세요(과일,채소):채소\n"
     ]
    }
   ],
   "source": [
    "category= input(\"등록할 카데고리를 선택해주세요(과일,채소):\")"
   ]
  },
  {
   "cell_type": "code",
   "execution_count": 106,
   "metadata": {},
   "outputs": [
    {
     "name": "stdout",
     "output_type": "stream",
     "text": [
      "등록할 채소를 입력해주세요: 당근\n"
     ]
    }
   ],
   "source": [
    "item =input(\"등록할 {}를 입력해주세요: \".format(category))"
   ]
  },
  {
   "cell_type": "code",
   "execution_count": null,
   "metadata": {},
   "outputs": [],
   "source": [
    "if category in [\"과일\",\"채소\"]:\n",
    "    if category ==\"과일\":\n",
    "        if item in fruit : \n",
    "            print()\n",
    "    "
   ]
  }
 ],
 "metadata": {
  "kernelspec": {
   "display_name": "Python 3",
   "language": "python",
   "name": "python3"
  },
  "language_info": {
   "codemirror_mode": {
    "name": "ipython",
    "version": 3
   },
   "file_extension": ".py",
   "mimetype": "text/x-python",
   "name": "python",
   "nbconvert_exporter": "python",
   "pygments_lexer": "ipython3",
   "version": "3.8.5"
  }
 },
 "nbformat": 4,
 "nbformat_minor": 4
}
