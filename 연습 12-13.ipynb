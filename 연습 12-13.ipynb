{
 "cells": [
  {
   "cell_type": "code",
   "execution_count": 14,
   "metadata": {},
   "outputs": [
    {
     "name": "stdout",
     "output_type": "stream",
     "text": [
      "[-7, 3, 6, 9, 20, 20]\n"
     ]
    }
   ],
   "source": [
    "x = [3,6,9,-7,20,9]\n",
    "\n",
    "y=x.copy()\n",
    "for i in x:\n",
    "      c=0\n",
    "      for j in x:\n",
    "            if i > j:\n",
    "                c=c+1\n",
    "      y[c]=i\n",
    "x=y\n",
    "print(x)"
   ]
  },
  {
   "cell_type": "raw",
   "metadata": {},
   "source": [
    "word= [\"school\",\"piano\",\"average\",\"mountain\",\"school\"]\n",
    "word=a"
   ]
  },
  {
   "cell_type": "code",
   "execution_count": 60,
   "metadata": {},
   "outputs": [
    {
     "ename": "NameError",
     "evalue": "name 'word' is not defined",
     "output_type": "error",
     "traceback": [
      "\u001b[1;31m---------------------------------------------------------------------------\u001b[0m",
      "\u001b[1;31mNameError\u001b[0m                                 Traceback (most recent call last)",
      "\u001b[1;32m<ipython-input-60-8ed7c1b42c9c>\u001b[0m in \u001b[0;36m<module>\u001b[1;34m\u001b[0m\n\u001b[1;32m----> 1\u001b[1;33m \u001b[0ma\u001b[0m\u001b[1;33m=\u001b[0m\u001b[0mword\u001b[0m\u001b[1;33m\u001b[0m\u001b[1;33m\u001b[0m\u001b[0m\n\u001b[0m\u001b[0;32m      2\u001b[0m \u001b[0ma\u001b[0m \u001b[1;33m=\u001b[0m \u001b[1;33m[\u001b[0m \u001b[0me\u001b[0m \u001b[1;32mfor\u001b[0m \u001b[0me\u001b[0m \u001b[1;32min\u001b[0m \u001b[0mword\u001b[0m \u001b[1;32mif\u001b[0m \u001b[0mlen\u001b[0m\u001b[1;33m(\u001b[0m\u001b[0me\u001b[0m\u001b[1;33m)\u001b[0m \u001b[1;33m>\u001b[0m \u001b[1;36m5\u001b[0m\u001b[1;33m]\u001b[0m\u001b[1;33m\u001b[0m\u001b[1;33m\u001b[0m\u001b[0m\n\u001b[0;32m      3\u001b[0m \u001b[0mprint\u001b[0m\u001b[1;33m(\u001b[0m\u001b[0me\u001b[0m\u001b[1;33m)\u001b[0m\u001b[1;33m\u001b[0m\u001b[1;33m\u001b[0m\u001b[0m\n",
      "\u001b[1;31mNameError\u001b[0m: name 'word' is not defined"
     ]
    }
   ],
   "source": [
    "a=word\n",
    "a = [ e for e in word if len(e) > 5]\n",
    "print(e)"
   ]
  },
  {
   "cell_type": "code",
   "execution_count": null,
   "metadata": {},
   "outputs": [],
   "source": []
  },
  {
   "cell_type": "code",
   "execution_count": 33,
   "metadata": {},
   "outputs": [
    {
     "name": "stdout",
     "output_type": "stream",
     "text": [
      "20\n",
      "40\n",
      "60\n",
      "80\n",
      "100\n"
     ]
    }
   ],
   "source": [
    "def func1(*args):\n",
    "    for i in args:\n",
    "        print(i)\n",
    "\n",
    "func1(20, 40, 60)\n",
    "func1(80, 100)"
   ]
  },
  {
   "cell_type": "code",
   "execution_count": 37,
   "metadata": {},
   "outputs": [
    {
     "name": "stdout",
     "output_type": "stream",
     "text": [
      "20\n",
      "40\n",
      "60\n",
      "80\n",
      "100\n"
     ]
    }
   ],
   "source": [
    "def func1(*args):\n",
    "    for i in args:\n",
    "        print(i)\n",
    "\n",
    "func1(20, 40, 60)\n",
    "func1(80, 100)"
   ]
  },
  {
   "cell_type": "code",
   "execution_count": 46,
   "metadata": {},
   "outputs": [
    {
     "ename": "NameError",
     "evalue": "name 'allindex' is not defined",
     "output_type": "error",
     "traceback": [
      "\u001b[1;31m---------------------------------------------------------------------------\u001b[0m",
      "\u001b[1;31mNameError\u001b[0m                                 Traceback (most recent call last)",
      "\u001b[1;32m<ipython-input-46-eac03cff191a>\u001b[0m in \u001b[0;36m<module>\u001b[1;34m\u001b[0m\n\u001b[0;32m      1\u001b[0m \u001b[0mlis\u001b[0m\u001b[1;33m=\u001b[0m\u001b[1;33m[\u001b[0m\u001b[1;36m1\u001b[0m\u001b[1;33m,\u001b[0m\u001b[1;36m2\u001b[0m\u001b[1;33m,\u001b[0m\u001b[1;36m3\u001b[0m\u001b[1;33m,\u001b[0m\u001b[1;36m1\u001b[0m\u001b[1;33m,\u001b[0m\u001b[1;36m4\u001b[0m\u001b[1;33m,\u001b[0m\u001b[1;36m2\u001b[0m\u001b[1;33m,\u001b[0m\u001b[1;36m1\u001b[0m\u001b[1;33m]\u001b[0m\u001b[1;33m\u001b[0m\u001b[1;33m\u001b[0m\u001b[0m\n\u001b[1;32m----> 2\u001b[1;33m \u001b[0mallindex\u001b[0m\u001b[1;33m(\u001b[0m\u001b[0mlis\u001b[0m\u001b[1;33m,\u001b[0m \u001b[1;36m1\u001b[0m\u001b[1;33m)\u001b[0m\u001b[1;33m\u001b[0m\u001b[1;33m\u001b[0m\u001b[0m\n\u001b[0m",
      "\u001b[1;31mNameError\u001b[0m: name 'allindex' is not defined"
     ]
    }
   ],
   "source": [
    "lis=[1,2,3,1,4,2,1]\n",
    "allindex(lis, 1)\n"
   ]
  },
  {
   "cell_type": "code",
   "execution_count": 47,
   "metadata": {},
   "outputs": [
    {
     "name": "stdout",
     "output_type": "stream",
     "text": [
      "(50, 30)\n"
     ]
    }
   ],
   "source": [
    "def calculation(a, b):\n",
    "    return a+b, a-b\n",
    "\n",
    "res = calculation(40, 10)\n",
    "print(res)"
   ]
  },
  {
   "cell_type": "code",
   "execution_count": 49,
   "metadata": {},
   "outputs": [
    {
     "name": "stdout",
     "output_type": "stream",
     "text": [
      "(50, 30)\n"
     ]
    }
   ],
   "source": [
    "def calculation(a,b) :\n",
    "    return a+b,a-b\n",
    "\n",
    "res = calculation(40,10)\n",
    "print(res)"
   ]
  },
  {
   "cell_type": "code",
   "execution_count": 50,
   "metadata": {},
   "outputs": [
    {
     "name": "stdout",
     "output_type": "stream",
     "text": [
      "Employee Ben salary is: 9000\n",
      "Employee Ben salary is: 9000\n"
     ]
    }
   ],
   "source": [
    "def showEmployee(name, salary=9000):\n",
    "    print(\"Employee\", name, \"salary is:\", salary)\n",
    "\n",
    "showEmployee(\"Ben\", 9000)\n",
    "showEmployee(\"Ben\")"
   ]
  },
  {
   "cell_type": "code",
   "execution_count": 66,
   "metadata": {},
   "outputs": [
    {
     "name": "stdout",
     "output_type": "stream",
     "text": [
      "a a salary is 9000\n",
      "a a salary is 9000\n"
     ]
    }
   ],
   "source": [
    "def show_a(name, salary=9000):\n",
    "    print(\"a\",name,\"salary is\",salary)\n",
    "\n",
    "show_a(\"a\",9000)\n",
    "show_a(\"a\")"
   ]
  },
  {
   "cell_type": "code",
   "execution_count": 61,
   "metadata": {},
   "outputs": [
    {
     "name": "stdout",
     "output_type": "stream",
     "text": [
      "값을 입력해 주세요:30\n",
      "값을 입력해 주세요:40\n",
      "값을 입력해 주세요:50\n",
      "값을 입력해 주세요:0\n",
      "합계는 ? 120\n"
     ]
    }
   ],
   "source": [
    "score = -1\n",
    "score_sum = 0\n",
    "\n",
    "while score != 0:\n",
    "    score = int(input(\"값을 입력해 주세요:\"))\n",
    "    score_sum +=  score\n",
    "    \n",
    "print(f\"합계는 ? {score_sum}\")"
   ]
  },
  {
   "cell_type": "code",
   "execution_count": 64,
   "metadata": {},
   "outputs": [
    {
     "name": "stdout",
     "output_type": "stream",
     "text": [
      "값을 입력해주세요:3\n",
      "값을 입력해주세요:4\n",
      "값을 입력해주세요:0\n",
      "합계는?7\n"
     ]
    }
   ],
   "source": [
    "score=-1\n",
    "score_sum =0\n",
    "\n",
    "while score !=0:\n",
    "    score=int(input(\"값을 입력해주세요:\"))\n",
    "    score_sum+=score\n",
    "print(f\"합계는?{score_sum}\")"
   ]
  },
  {
   "cell_type": "code",
   "execution_count": 67,
   "metadata": {},
   "outputs": [
    {
     "name": "stdout",
     "output_type": "stream",
     "text": [
      "[4, 6, 8, 10, 12, 14, 16, 18, 20, 22, 24, 26, 28]\n"
     ]
    }
   ],
   "source": [
    "print(list( range(4, 30, 2)))"
   ]
  },
  {
   "cell_type": "code",
   "execution_count": 69,
   "metadata": {},
   "outputs": [
    {
     "name": "stdout",
     "output_type": "stream",
     "text": [
      "[4, 6, 8, 10, 12, 14, 16, 18, 20, 22, 24, 26, 28]\n"
     ]
    }
   ],
   "source": [
    "print(list(range(4,30,2)))"
   ]
  },
  {
   "cell_type": "code",
   "execution_count": 70,
   "metadata": {},
   "outputs": [
    {
     "name": "stdout",
     "output_type": "stream",
     "text": [
      "Emma 26\n",
      "Emma 26\n"
     ]
    }
   ],
   "source": [
    "def displayStudent(name, age):\n",
    "    print(name, age)\n",
    "\n",
    "displayStudent(\"Emma\", 26)\n",
    "\n",
    "showStudent = displayStudent\n",
    "showStudent(\"Emma\", 26)\n"
   ]
  },
  {
   "cell_type": "code",
   "execution_count": 71,
   "metadata": {},
   "outputs": [
    {
     "name": "stdout",
     "output_type": "stream",
     "text": [
      "amy 26\n",
      "amy 26\n"
     ]
    }
   ],
   "source": [
    "def displaystudent(name,age):\n",
    "    print(name,age)\n",
    "    \n",
    "displaystudent(\"amy\",26)\n",
    "\n",
    "showstudent=displaystudent\n",
    "showstudent(\"amy\",26)"
   ]
  },
  {
   "cell_type": "code",
   "execution_count": 72,
   "metadata": {},
   "outputs": [],
   "source": [
    "file = open(\"test.txt\", \"w\", encoding=\"utf-8\")\n",
    "file.write(\"test 입니다\")\n",
    "file.close()"
   ]
  },
  {
   "cell_type": "code",
   "execution_count": 73,
   "metadata": {},
   "outputs": [],
   "source": [
    "file=open(\"test.txt\",\"w\",encoding=\"utf-8\")\n",
    "file.write(\"test입니다\")\n",
    "file.close()"
   ]
  },
  {
   "cell_type": "code",
   "execution_count": 76,
   "metadata": {},
   "outputs": [
    {
     "data": {
      "text/plain": [
       "[[20, 60, 120, 200, 300, 420],\n",
       " [20, 60, 120, 200, 300, 420],\n",
       " [20, 60, 120, 200, 300, 420]]"
      ]
     },
     "execution_count": 76,
     "metadata": {},
     "output_type": "execute_result"
    }
   ],
   "source": [
    "a=[[10,20],[30,40],[50,60]]\n",
    "b=[[2,3],[4,5],[6,7]]\n",
    "\n",
    "c=[]\n",
    "tmp=[]\n",
    "\n",
    "for i in range (len(a)):\n",
    "    for j in range (len(a[i])):\n",
    "        tmp.append(a[i][j]*b[i][j])\n",
    "\n",
    "    c.append(tmp)\n",
    "c\n",
    "\n",
    "\n"
   ]
  },
  {
   "cell_type": "code",
   "execution_count": 78,
   "metadata": {},
   "outputs": [],
   "source": [
    "a=[[10,20],[30,40],[50,60]]\n",
    "\n",
    "a[2].extend([1,2])"
   ]
  },
  {
   "cell_type": "code",
   "execution_count": 79,
   "metadata": {},
   "outputs": [
    {
     "data": {
      "text/plain": [
       "[[10, 20], [30, 40], [50, 60, 1, 2]]"
      ]
     },
     "execution_count": 79,
     "metadata": {},
     "output_type": "execute_result"
    }
   ],
   "source": [
    "a"
   ]
  },
  {
   "cell_type": "code",
   "execution_count": 80,
   "metadata": {},
   "outputs": [
    {
     "name": "stdout",
     "output_type": "stream",
     "text": [
      "102030405060\n"
     ]
    }
   ],
   "source": [
    "a=[[10,20],[30,40],[50,60]]\n",
    "\n",
    "for i in a:\n",
    "    for j in i:\n",
    "        print(j,end=\"\")\n",
    "print()"
   ]
  },
  {
   "cell_type": "code",
   "execution_count": 81,
   "metadata": {},
   "outputs": [
    {
     "data": {
      "text/plain": [
       "'test입니다'"
      ]
     },
     "execution_count": 81,
     "metadata": {},
     "output_type": "execute_result"
    }
   ],
   "source": [
    "file2 = open(\"test.txt\", encoding=\"utf-8\")\n",
    "text = file2.read()\n",
    "file2.close()\n",
    "text"
   ]
  },
  {
   "cell_type": "code",
   "execution_count": 82,
   "metadata": {},
   "outputs": [
    {
     "data": {
      "text/plain": [
       "'test입니다'"
      ]
     },
     "execution_count": 82,
     "metadata": {},
     "output_type": "execute_result"
    }
   ],
   "source": [
    "file2=open(\"test.txt\",encoding=\"utf-8\")\n",
    "text= file2.read()\n",
    "file2.close()\n",
    "text"
   ]
  },
  {
   "cell_type": "code",
   "execution_count": 83,
   "metadata": {},
   "outputs": [
    {
     "name": "stdout",
     "output_type": "stream",
     "text": [
      "숫자를 입력하세요:1\n",
      "0\n"
     ]
    }
   ],
   "source": [
    "user = int(input(\"숫자를 입력하세요:\"))\n",
    "for i in range(user+1):\n",
    "    if i % 2 == 1:\n",
    "        continue\n",
    "    print(i)"
   ]
  },
  {
   "cell_type": "code",
   "execution_count": 84,
   "metadata": {},
   "outputs": [
    {
     "name": "stdout",
     "output_type": "stream",
     "text": [
      "숫자를 입력하세요:20\n",
      "0\n",
      "1\n",
      "2\n",
      "3\n",
      "4\n",
      "5\n",
      "6\n",
      "7\n",
      "8\n",
      "9\n",
      "10\n",
      "11\n",
      "12\n",
      "13\n",
      "14\n",
      "15\n",
      "16\n",
      "17\n",
      "18\n",
      "19\n"
     ]
    }
   ],
   "source": [
    "user= int(input(\"숫자를 입력하세요:\"))\n",
    "for i in range(user+1):\n",
    "    if i == 20:\n",
    "        continue\n",
    "    print(i)"
   ]
  },
  {
   "cell_type": "code",
   "execution_count": 85,
   "metadata": {},
   "outputs": [
    {
     "name": "stdout",
     "output_type": "stream",
     "text": [
      "숫자를 입력하세요:21\n",
      "0\n",
      "1\n",
      "2\n",
      "3\n",
      "4\n",
      "5\n",
      "6\n",
      "7\n",
      "8\n",
      "9\n",
      "10\n",
      "11\n",
      "12\n",
      "13\n",
      "14\n",
      "15\n",
      "16\n",
      "17\n",
      "18\n",
      "19\n",
      "20\n",
      "21\n"
     ]
    }
   ],
   "source": [
    "user = int(input(\"숫자를 입력하세요:\"))\n",
    "cnt = 0\n",
    "while True:\n",
    "    print(cnt)\n",
    "    cnt += 1\n",
    "    if cnt > user:\n",
    "        break"
   ]
  },
  {
   "cell_type": "code",
   "execution_count": 92,
   "metadata": {},
   "outputs": [
    {
     "name": "stdout",
     "output_type": "stream",
     "text": [
      "숫자를 입력하세요:20\n",
      "0\n",
      "1\n",
      "2\n",
      "3\n",
      "4\n",
      "5\n",
      "6\n",
      "7\n",
      "8\n",
      "9\n",
      "10\n",
      "11\n",
      "12\n",
      "13\n",
      "14\n",
      "15\n",
      "16\n",
      "17\n",
      "18\n",
      "19\n",
      "20\n"
     ]
    }
   ],
   "source": [
    "user =int(input(\"숫자를 입력하세요:\"))\n",
    "\n",
    "cnt=0\n",
    "\n",
    "while True:\n",
    "    print(cnt)\n",
    "    cnt +=1\n",
    "    if cnt>user:\n",
    "        break"
   ]
  },
  {
   "cell_type": "code",
   "execution_count": 93,
   "metadata": {},
   "outputs": [],
   "source": [
    "with open(\"test.txt\", \"w\", encoding=\"utf-8\") as f:\n",
    "    f.write(\"close 꼭 해주세요\")"
   ]
  },
  {
   "cell_type": "code",
   "execution_count": 94,
   "metadata": {},
   "outputs": [],
   "source": [
    "with open(\"test.txt\",\"w\", encoding=\"utf-8\")as f:\n",
    "    f.write(\"close 꼭 해주세요\")"
   ]
  },
  {
   "cell_type": "code",
   "execution_count": 95,
   "metadata": {},
   "outputs": [],
   "source": [
    "def get_inputdata():\n",
    "    name = input(\"이름 : \")\n",
    "    math = int(input(\"수학 : \"))\n",
    "    science = int(input(\"과학 : \"))\n",
    "    english = int(input(\"영어 : \"))\n",
    "    \n",
    "    return name, math, science, english"
   ]
  },
  {
   "cell_type": "code",
   "execution_count": 97,
   "metadata": {},
   "outputs": [],
   "source": [
    "def get_inputdata():\n",
    "    name= input(\"이름:\")\n",
    "    math=int(input(\"수학:\"))\n",
    "    science=int(input(\"과학:\"))\n",
    "    english=int(input(\"영어:\"))\n",
    "    \n",
    "    return name, math, science,english "
   ]
  },
  {
   "cell_type": "code",
   "execution_count": 98,
   "metadata": {},
   "outputs": [],
   "source": [
    "def display_all(scores):\n",
    "    for i, user in enumerate(scores):\n",
    "        print(f'[{i}] 이름 : {user[\"이름\"]}, 수학 : {user[\"수학\"]}, 과학 : {user[\"과학\"]}, 영어 : {user[\"영어\"]}')"
   ]
  },
  {
   "cell_type": "code",
   "execution_count": 99,
   "metadata": {},
   "outputs": [],
   "source": [
    "def display_all(scores):\n",
    "    for i, user in enumerate(scores):\n",
    "        print( f'[{i}]이름:{user[\"이름\"]}, 수학:{user[\"수학\"]} , 과학: {user[\"과학\"]}, 영어 : {user[\"영어\"]}')"
   ]
  },
  {
   "cell_type": "code",
   "execution_count": 100,
   "metadata": {},
   "outputs": [
    {
     "name": "stdout",
     "output_type": "stream",
     "text": [
      "메뉴를 선택해주세요 1 - 입력, 2 - 조회, 3 - 삭제, 0 - 종료)1\n",
      "이름:이진범\n",
      "수학:30\n",
      "과학:40\n",
      "영어:50\n",
      "메뉴를 선택해주세요 1 - 입력, 2 - 조회, 3 - 삭제, 0 - 종료)2\n",
      "[0]이름:이진범, 수학:30 , 과학: 40, 영어 : 50\n",
      "메뉴를 선택해주세요 1 - 입력, 2 - 조회, 3 - 삭제, 0 - 종료)이민호\n",
      "메뉴를 선택해주세요 1 - 입력, 2 - 조회, 3 - 삭제, 0 - 종료)40\n",
      "메뉴를 선택해주세요 1 - 입력, 2 - 조회, 3 - 삭제, 0 - 종료)50\n",
      "메뉴를 선택해주세요 1 - 입력, 2 - 조회, 3 - 삭제, 0 - 종료)30\n",
      "메뉴를 선택해주세요 1 - 입력, 2 - 조회, 3 - 삭제, 0 - 종료)3\n",
      "[0]이름:이진범, 수학:30 , 과학: 40, 영어 : 50\n",
      "삭제할 번호를 입력해주세요 :0\n",
      "삭제가 완료되었습니다.\n",
      "메뉴를 선택해주세요 1 - 입력, 2 - 조회, 3 - 삭제, 0 - 종료)0\n"
     ]
    },
    {
     "data": {
      "text/plain": [
       "[]"
      ]
     },
     "execution_count": 100,
     "metadata": {},
     "output_type": "execute_result"
    }
   ],
   "source": [
    "import pickle\n",
    "import os.path\n",
    "\n",
    "filename = \"scores.pkl\"\n",
    "\n",
    "if os.path.exists(filename):\n",
    "    with open(filename, \"rb\") as f:\n",
    "        scores = pickle.load(f)\n",
    "else:\n",
    "    scores = []\n",
    "\n",
    "\n",
    "while True:\n",
    "    menu = input(\"메뉴를 선택해주세요 1 - 입력, 2 - 조회, 3 - 삭제, 0 - 종료)\")\n",
    "    if menu == \"1\":\n",
    "        #입력    \n",
    "        name, math, science, english = get_inputdata() \n",
    "        scores.append({\"이름\":name, \"수학\":math, \"과학\":science, \"영어\":english})\n",
    "        \n",
    "    elif menu == \"2\":\n",
    "        #조회\n",
    "        display_all(scores)\n",
    "            \n",
    "    elif menu == \"3\":\n",
    "        #삭제\n",
    "        display_all(scores)\n",
    "        \n",
    "        del_index = int(input(\"삭제할 번호를 입력해주세요 :\"))\n",
    "        scores.pop(del_index)\n",
    "        print(\"삭제가 완료되었습니다.\")\n",
    "        \n",
    "        \n",
    "    elif menu == \"0\":\n",
    "        #종료\n",
    "        #파일 저장\n",
    "        with open(filename, \"wb\") as f:\n",
    "            pickle.dump(scores, f)\n",
    "            \n",
    "        break\n",
    "\n",
    "scores"
   ]
  },
  {
   "cell_type": "code",
   "execution_count": null,
   "metadata": {},
   "outputs": [],
   "source": [
    "import pickle\n",
    "import os.path\n",
    "\n",
    "filename= \"scores.pkl\"\n",
    "\n",
    "if os.path.exists(filename):\n",
    "    with open(filename,\"rb\") as f:\n",
    "        scores = pickle.load(f)\n",
    "else :\n",
    "    scores = []\n",
    "\n",
    "while True:\n",
    "    menu=int(input(\"메뉴를 선택해주세요 1-입력,2-조회,3-삭제,0-종료:\"))\n",
    "    if menu == \"1\":\n",
    "       name, math, science,english = get_inputdata()\n",
    "       scores.append({\"이름\":name, \"수학\":math, \"과학\":science, \"영어\":english})\n",
    "    elif menu == \"2\":\n",
    "       dispaly_all(scores)\n",
    "    elif menu == \"3\":\n",
    "        dispaly_all(scores)\n",
    "        \n",
    "        del_index= int(input(\"삭제할 번호를 입력해주세요:\"))\n",
    "        scores.pop(del_index)\n",
    "        print(\"삭제가 완료되었습니다.\")\n",
    "    elif menu==0:\n",
    "        with open (filename,\"wb\")as f:\n",
    "            pickle.dump(scores.f)\n",
    "        \n",
    "        break\n",
    "scores"
   ]
  },
  {
   "cell_type": "code",
   "execution_count": null,
   "metadata": {},
   "outputs": [],
   "source": []
  }
 ],
 "metadata": {
  "kernelspec": {
   "display_name": "Python 3",
   "language": "python",
   "name": "python3"
  },
  "language_info": {
   "codemirror_mode": {
    "name": "ipython",
    "version": 3
   },
   "file_extension": ".py",
   "mimetype": "text/x-python",
   "name": "python",
   "nbconvert_exporter": "python",
   "pygments_lexer": "ipython3",
   "version": "3.8.5"
  }
 },
 "nbformat": 4,
 "nbformat_minor": 4
}
